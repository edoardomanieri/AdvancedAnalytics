{
 "cells": [
  {
   "cell_type": "code",
   "execution_count": 195,
   "metadata": {},
   "outputs": [],
   "source": [
    "from pyspark.ml.feature import HashingTF, IDF, Tokenizer, StringIndexer, VectorAssembler\n",
    "from pyspark.sql import SparkSession\n",
    "from pyspark.ml.classification import LogisticRegression\n",
    "from pyspark.ml import Pipeline\n",
    "from pyspark.ml.feature import StopWordsRemover\n",
    "from pyspark.sql.types import StructType, StructField, IntegerType, StringType, IntegerType\n",
    "from pyspark.ml.classification import RandomForestClassifier\n",
    "from difflib import unified_diff\n",
    "import pyspark.sql.functions as F\n",
    "from sklearn.metrics import classification_report, confusion_matrix\n",
    "import pandas as pd\n",
    "import os\n",
    "from difflib import unified_diff"
   ]
  },
  {
   "cell_type": "code",
   "execution_count": 196,
   "metadata": {},
   "outputs": [],
   "source": [
    "path = '/home/edoardo/Desktop/University/KU Leuven/Advancedanalytics/ThirdAssignment/output'"
   ]
  },
  {
   "cell_type": "code",
   "execution_count": 197,
   "metadata": {},
   "outputs": [],
   "source": [
    "def make_diff(old, new):\n",
    "    return '\\n'.join([l for l in unified_diff(old.split('\\n'), new.split('\\n')) if l.startswith('+') or l.startswith('-')])"
   ]
  },
  {
   "cell_type": "code",
   "execution_count": 198,
   "metadata": {},
   "outputs": [],
   "source": [
    "def accuracy_m(model): \n",
    "    predictions = model.transform(test)\n",
    "    cm = predictions.select(\"newlabel\", \"prediction\")\n",
    "    acc = cm.filter(cm.newlabel == cm.prediction).count() / cm.count()\n",
    "    print(\"Model accuracy: %.3f%%\" % (acc * 100)) "
   ]
  },
  {
   "cell_type": "code",
   "execution_count": 200,
   "metadata": {},
   "outputs": [],
   "source": [
    "def save_streaming_dataset():\n",
    "    for d in os.listdir(f\"{path}/vandals\")[:1]:\n",
    "        tot_df = pd.read_csv(f\"{path}/vandals/{d}/df.csv\", index_col=0, sep=\"|\")\n",
    "\n",
    "    for d in os.listdir(f\"{path}/vandals\")[1:]:\n",
    "        df = pd.read_csv(f\"{path}/vandals/{d}/df.csv\", index_col=0, sep=\"|\")\n",
    "        tot_df = pd.concat([tot_df, df]).reset_index(drop=True)\n",
    "\n",
    "    for d in os.listdir(f\"{path}/mixed\"):\n",
    "        df = pd.read_csv(f\"{path}/mixed/{d}/df.csv\", index_col=0, sep=\"|\")\n",
    "        tot_df = pd.concat([tot_df, df]).reset_index(drop=True)\n",
    "\n",
    "    tot_df['text_old'] = tot_df['text_old'].str.replace(\"|\", \"-\")\n",
    "    tot_df['text_old'] = tot_df['text_old'].str.replace(\"\\n\", \" \")\n",
    "    tot_df['text_new'] = tot_df['text_new'].str.replace(\"|\", \"-\")\n",
    "    tot_df['text_new'] = tot_df['text_new'].str.replace(\"\\n\", \" \")\n",
    "    tot_df['comment'] = tot_df['comment'].str.replace(\"|\", \"-\")\n",
    "    tot_df['comment'] = tot_df['comment'].str.replace(\"\\n\", \" \")\n",
    "    tot_df['name_user'] = tot_df['name_user'].str.replace(\"|\", \"-\")\n",
    "    tot_df['name_user'] = tot_df['name_user'].str.replace(\"\\n\", \" \")\n",
    "    tot_df.loc[:, ['text_old', 'text_new', 'name_user', 'comment', 'label']].to_csv(\n",
    "        f\"{path}/final_df.csv\", sep=\"|\", index=False)\n",
    "    print(f\"number of datapoints: {len(tot_df)}\")"
   ]
  },
  {
   "cell_type": "code",
   "execution_count": 201,
   "metadata": {},
   "outputs": [
    {
     "name": "stdout",
     "output_type": "stream",
     "text": [
      "number of datapoints: 2268\n"
     ]
    }
   ],
   "source": [
    "# put together data\n",
    "save_streaming_dataset()"
   ]
  },
  {
   "cell_type": "code",
   "execution_count": 207,
   "metadata": {},
   "outputs": [],
   "source": [
    "# load dataset\n",
    "schema = StructType([\n",
    "    StructField(\"text_old\", StringType(), True),\n",
    "    StructField(\"text_new\", StringType(), True),\n",
    "    StructField(\"name_user\", StringType(), True),\n",
    "    StructField(\"comment\", StringType(), True),\n",
    "    StructField(\"label\", StringType(), True)])\n",
    "\n",
    "df = spark.read.csv(f\"{path}/final_df.csv\", sep='|', header=True, mode='PERMISSIVE', schema=schema)"
   ]
  },
  {
   "cell_type": "code",
   "execution_count": 208,
   "metadata": {},
   "outputs": [],
   "source": [
    "# preprocessing\n",
    "diff_udf = F.udf(make_diff, StringType())\n",
    "df_withdiff = df.withColumn(\"diff\", diff_udf(F.col(\"text_old\"), F.col(\"text_new\")))\n",
    "df_withip = df_withdiff.withColumn(\"ip\", F.when((F.size(F.split(F.col(\"name_user\"), r\"\\.\")) - 1) == 4, 1)\n",
    "                                           .when((F.size(F.split(F.col(\"name_user\"), r\"\\:\")) - 1) == 7, 1)\n",
    "                                           .otherwise(0))\n",
    "df_nanComment = df_withip.withColumn(\"nan_comment\", F.when(F.isnan(F.col(\"comment\")) | F.isnull(F.col(\"comment\")), 1)\n",
    "                                    .otherwise(0))\n",
    "df = df_nanComment.select(['diff', 'ip', 'nan_comment', 'label'])"
   ]
  },
  {
   "cell_type": "code",
   "execution_count": 209,
   "metadata": {},
   "outputs": [],
   "source": [
    "# split\n",
    "train, test = df.randomSplit([0.8, 0.2], seed = 2018)"
   ]
  },
  {
   "cell_type": "code",
   "execution_count": 210,
   "metadata": {},
   "outputs": [],
   "source": [
    "# pipeline\n",
    "tokenizer = Tokenizer(inputCol=\"diff\", outputCol=\"words\")\n",
    "stopWordsRemover = StopWordsRemover(inputCol=\"words\", outputCol=\"stopw\")\n",
    "hashingTF = HashingTF(inputCol=\"stopw\", outputCol=\"rawFeatures\", numFeatures=200)\n",
    "idf = IDF(inputCol=\"rawFeatures\", outputCol=\"rawfeaturesidf\")\n",
    "assembler = VectorAssembler(inputCols=[\"rawfeaturesidf\", \"ip\", \"nan_comment\"], outputCol=\"features\")\n",
    "label_encoder = StringIndexer(inputCol=\"label\", outputCol=\"newlabel\")"
   ]
  },
  {
   "cell_type": "code",
   "execution_count": 211,
   "metadata": {},
   "outputs": [],
   "source": [
    "# fitting\n",
    "stages = [tokenizer, stopWordsRemover, hashingTF, idf, assembler, label_encoder]\n",
    "pipeline = Pipeline(stages = stages)\n",
    "pipelineModel = pipeline.fit(train)\n",
    "train = pipelineModel.transform(train)\n",
    "test = pipelineModel.transform(test)"
   ]
  },
  {
   "cell_type": "code",
   "execution_count": 212,
   "metadata": {},
   "outputs": [
    {
     "name": "stdout",
     "output_type": "stream",
     "text": [
      "Model accuracy: 75.372%\n"
     ]
    }
   ],
   "source": [
    "# logistic regression\n",
    "lr = LogisticRegression(featuresCol='features', labelCol='newlabel', maxIter=100)\n",
    "lrModel = lr.fit(train)\n",
    "predictions = lrModel.transform(test)\n",
    "accuracy_m(lrModel)"
   ]
  },
  {
   "cell_type": "code",
   "execution_count": 213,
   "metadata": {},
   "outputs": [
    {
     "name": "stdout",
     "output_type": "stream",
     "text": [
      "              precision    recall  f1-score   support\n",
      "\n",
      "         0.0       0.84      0.92      0.88       353\n",
      "         1.0       0.42      0.26      0.32        66\n",
      "         2.0       0.30      0.25      0.27        52\n",
      "\n",
      "    accuracy                           0.75       471\n",
      "   macro avg       0.52      0.48      0.49       471\n",
      "weighted avg       0.72      0.75      0.73       471\n",
      "\n"
     ]
    }
   ],
   "source": [
    "# classification report\n",
    "y_true = predictions.select(['newlabel']).collect()\n",
    "y_pred = predictions.select(['prediction']).collect()\n",
    "print(classification_report(y_true, y_pred))"
   ]
  },
  {
   "cell_type": "code",
   "execution_count": 214,
   "metadata": {},
   "outputs": [
    {
     "data": {
      "text/plain": [
       "[Text(0, 0.5, 'safe'), Text(0, 1.5, 'unsafe'), Text(0, 2.5, 'vandal')]"
      ]
     },
     "execution_count": 214,
     "metadata": {},
     "output_type": "execute_result"
    },
    {
     "data": {
      "image/png": "[encoded data removed]",
      "text/plain": [
       "<Figure size 432x288 with 2 Axes>"
      ]
     },
     "metadata": {
      "needs_background": "light"
     },
     "output_type": "display_data"
    }
   ],
   "source": [
    "# confusion matrix\n",
    "import seaborn as sns\n",
    "import matplotlib.pyplot as plt  \n",
    "\n",
    "cm = confusion_matrix(y_true, y_pred)\n",
    "ax = plt.subplot()\n",
    "sns.heatmap(cm, annot=True, ax = ax,  fmt='g') \n",
    "\n",
    "# labels, title and ticks\n",
    "ax.set_xlabel('Predicted labels')\n",
    "ax.set_ylabel('True labels')\n",
    "ax.set_title('Confusion Matrix')\n",
    "ax.xaxis.set_ticklabels(['safe', 'unsafe', 'vandal'])\n",
    "ax.yaxis.set_ticklabels(['safe', 'unsafe', 'vandal'])"
   ]
  },
  {
   "cell_type": "code",
   "execution_count": null,
   "metadata": {},
   "outputs": [],
   "source": [
    "# to try this model we need more data\n",
    "rf = RandomForestClassifier(featuresCol='features', labelCol='newlabel', numTrees=50)\n",
    "rfModel = rf.fit(train)\n",
    "predictions = rfModel.transform(test)\n",
    "accuracy_m(rfModel)"
   ]
  },
  {
   "cell_type": "code",
   "execution_count": 215,
   "metadata": {},
   "outputs": [],
   "source": [
    "# pipeline\n",
    "tokenizer = Tokenizer(inputCol=\"diff\", outputCol=\"words\")\n",
    "stopWordsRemover = StopWordsRemover(inputCol=\"words\", outputCol=\"stopw\")\n",
    "hashingTF = HashingTF(inputCol=\"stopw\", outputCol=\"rawFeatures\", numFeatures=200)\n",
    "idf = IDF(inputCol=\"rawFeatures\", outputCol=\"rawfeaturesidf\")\n",
    "assembler = VectorAssembler(inputCols=[\"rawfeaturesidf\", \"ip\", \"nan_comment\"], outputCol=\"features\")\n",
    "label_encoder = StringIndexer(inputCol=\"label\", outputCol=\"newlabel\")"
   ]
  },
  {
   "cell_type": "code",
   "execution_count": 216,
   "metadata": {},
   "outputs": [],
   "source": [
    "# saving model\n",
    "stages = [tokenizer, stopWordsRemover, hashingTF, idf, assembler, label_encoder, lr]\n",
    "pipeline = Pipeline(stages = stages)\n",
    "pipelineModel = pipeline.fit(df)\n",
    "pipelineModel.save(f\"{path}/pipelineModel\")"
   ]
  },
  {
   "cell_type": "code",
   "execution_count": null,
   "metadata": {},
   "outputs": [],
   "source": []
  }
 ],
 "metadata": {
  "kernelspec": {
   "display_name": "Python 3.6.8 64-bit",
   "language": "python",
   "name": "python36864bita745f45eeba44309b7e466b46e841053"
  },
  "language_info": {
   "codemirror_mode": {
    "name": "ipython",
    "version": 3
   },
   "file_extension": ".py",
   "mimetype": "text/x-python",
   "name": "python",
   "nbconvert_exporter": "python",
   "pygments_lexer": "ipython3",
   "version": "3.6.9"
  },
  "toc": {
   "base_numbering": 1,
   "nav_menu": {},
   "number_sections": true,
   "sideBar": true,
   "skip_h1_title": false,
   "title_cell": "Table of Contents",
   "title_sidebar": "Contents",
   "toc_cell": false,
   "toc_position": {},
   "toc_section_display": true,
   "toc_window_display": false
  }
 },
 "nbformat": 4,
 "nbformat_minor": 2
}
